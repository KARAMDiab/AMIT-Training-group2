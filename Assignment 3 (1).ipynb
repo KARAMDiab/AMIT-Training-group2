{
 "cells": [
  {
   "cell_type": "markdown",
   "metadata": {},
   "source": [
    "# Assignment 3"
   ]
  },
  {
   "cell_type": "markdown",
   "metadata": {},
   "source": [
    "Write a function to count the number 4 in a given list."
   ]
  },
  {
   "cell_type": "code",
   "execution_count": 33,
   "metadata": {},
   "outputs": [
    {
     "name": "stdout",
     "output_type": "stream",
     "text": [
      "Enter the list size 5\n",
      "4\n",
      "4\n",
      "4\n",
      "2\n",
      "4\n",
      "there no number 4 in the given list\n",
      "4\n",
      "None\n"
     ]
    }
   ],
   "source": [
    "def count(num):\n",
    "    flag=0\n",
    "    for i in range (0,len(num)):\n",
    "        if num[i]==4:\n",
    "            flag+=1\n",
    "        else:\n",
    "            print(\"there no number 4 in the given list\")\n",
    "    print(flag)\n",
    "number_list =[]\n",
    "n = int(input(\"Enter the list size \"))\n",
    "for i in range(0, n):\n",
    "    item = int(input())\n",
    "    number_list.append(item)\n",
    "print(count(number_list))\n",
    "    "
   ]
  },
  {
   "cell_type": "markdown",
   "metadata": {},
   "source": [
    "# write a  function to check whether a number is divisible by another number."
   ]
  },
  {
   "cell_type": "code",
   "execution_count": 8,
   "metadata": {},
   "outputs": [
    {
     "name": "stdout",
     "output_type": "stream",
     "text": [
      "enter the first num5\n",
      "enter the first num3\n",
      "5 can not be divided by 3\n"
     ]
    }
   ],
   "source": [
    "def div(num1,num2):\n",
    "    if num1%num2==0:\n",
    "        print(num1,\"can be divided by\",num2)\n",
    "    else:\n",
    "        print(num1,\"can not be divided by\",num2)\n",
    "x1=int(input(\"enter the first num\"))\n",
    "x2=int(input(\"enter the first num\"))\n",
    "div(x1,x2)\n",
    "\n"
   ]
  },
  {
   "cell_type": "markdown",
   "metadata": {},
   "source": [
    "### write a function to find the maximum and minimum numbers from a sequence of numbers."
   ]
  },
  {
   "cell_type": "code",
   "execution_count": 18,
   "metadata": {},
   "outputs": [
    {
     "data": {
      "text/plain": [
       "(8, 5)"
      ]
     },
     "execution_count": 18,
     "metadata": {},
     "output_type": "execute_result"
    }
   ],
   "source": [
    "def max_min(numbers):\n",
    "    maxnum=numbers[0]\n",
    "    minnum=numbers[0]\n",
    "    for i in numbers:\n",
    "        if i>maxnum:\n",
    "            maxnum=i\n",
    "        else:\n",
    "            minnum=i\n",
    "    return maxnum , minnum\n",
    "        \n",
    "x=[1,2,3,4,7,5,8]\n",
    "max_min(x)\n",
    "            "
   ]
  },
  {
   "cell_type": "markdown",
   "metadata": {},
   "source": [
    "### Write a Python function that takes two lists and returns True if they have at least one common member."
   ]
  },
  {
   "cell_type": "code",
   "execution_count": 31,
   "metadata": {},
   "outputs": [
    {
     "data": {
      "text/plain": [
       "'ture'"
      ]
     },
     "execution_count": 31,
     "metadata": {},
     "output_type": "execute_result"
    }
   ],
   "source": [
    "def common_num(l1,l2):\n",
    "    flag=\"fulse\"\n",
    "    for i1 in l1:\n",
    "        for i2 in l2:\n",
    "            if i1==i2:\n",
    "                flag=\"ture\"\n",
    "                return flag\n",
    "            \n",
    "x1=[1,2,3,4,5,6]\n",
    "x2=[6,7,8,9,0,1]\n",
    "common_num(x1,x2)\n",
    "    "
   ]
  },
  {
   "cell_type": "markdown",
   "metadata": {},
   "source": [
    "### Write a Python function to calculate the factorial of a number (a non-negative integer). The function accepts the number from the user"
   ]
  },
  {
   "cell_type": "code",
   "execution_count": 10,
   "metadata": {},
   "outputs": [
    {
     "name": "stdout",
     "output_type": "stream",
     "text": [
      "please enter an +ve number5\n",
      "120\n"
     ]
    }
   ],
   "source": [
    "def fact(num):\n",
    "    if num==0:\n",
    "        return \"enter a +ve number\"\n",
    "    elif num==1:\n",
    "         return 1\n",
    "    else:\n",
    "        return num * fact(num-1)\n",
    "x=int(input(\"please enter an +ve number\"))\n",
    "print(fact(x))"
   ]
  },
  {
   "cell_type": "markdown",
   "metadata": {},
   "source": [
    "### Write a Python function to check whether a number is in a given range.\n",
    "\n",
    "### The range is from 3 to 11\n"
   ]
  },
  {
   "cell_type": "code",
   "execution_count": 20,
   "metadata": {},
   "outputs": [
    {
     "name": "stdout",
     "output_type": "stream",
     "text": [
      "please enter a number5\n",
      "5 is in the range\n"
     ]
    }
   ],
   "source": [
    "def check_the_range(num1):\n",
    "    if num1 in range(3,12):\n",
    "        print(num1,\"is in the range\")\n",
    "    else:\n",
    "            print(num1,\"is not in the range\")\n",
    "x1=int(input(\"please enter a number\"))\n",
    "check_the_range(x1)\n"
   ]
  },
  {
   "cell_type": "markdown",
   "metadata": {},
   "source": [
    "### Write a  program to create the multiplication table (from 1 to 10) of a number."
   ]
  },
  {
   "cell_type": "code",
   "execution_count": 26,
   "metadata": {},
   "outputs": [
    {
     "name": "stdout",
     "output_type": "stream",
     "text": [
      "2\n",
      "4\n",
      "6\n",
      "8\n",
      "10\n",
      "12\n",
      "14\n",
      "16\n",
      "18\n",
      "20\n"
     ]
    }
   ],
   "source": [
    "number=2\n",
    "for i in range (1,11):\n",
    "    x=number*i\n",
    "    print(x)\n",
    "    "
   ]
  },
  {
   "cell_type": "markdown",
   "metadata": {},
   "source": [
    "#### LESSER OF TWO EVENS: Write a function that returns the lesser of two given numbers *if* both numbers are even, but returns the greater if one or both numbers are odd\n",
    "    lesser_of_two_evens(2,4) --> 2\n",
    "    lesser_of_two_evens(2,5) --> 5"
   ]
  },
  {
   "cell_type": "code",
   "execution_count": 29,
   "metadata": {},
   "outputs": [
    {
     "name": "stdout",
     "output_type": "stream",
     "text": [
      "2\n",
      "5\n"
     ]
    }
   ],
   "source": [
    "def lesser_of_two_evens(n1,n2):\n",
    "    if n1%2==0 and n2%2==0:\n",
    "        if n1>n2:\n",
    "            return n2\n",
    "        else:\n",
    "            return n1\n",
    "    else:\n",
    "        if n1>n2:\n",
    "            return n1\n",
    "        else:\n",
    "            return n2\n",
    "print(lesser_of_two_evens(2,4))\n",
    "print(lesser_of_two_evens(2,5))"
   ]
  },
  {
   "cell_type": "code",
   "execution_count": null,
   "metadata": {},
   "outputs": [],
   "source": []
  }
 ],
 "metadata": {
  "kernelspec": {
   "display_name": "Python 3 (ipykernel)",
   "language": "python",
   "name": "python3"
  },
  "language_info": {
   "codemirror_mode": {
    "name": "ipython",
    "version": 3
   },
   "file_extension": ".py",
   "mimetype": "text/x-python",
   "name": "python",
   "nbconvert_exporter": "python",
   "pygments_lexer": "ipython3",
   "version": "3.9.12"
  }
 },
 "nbformat": 4,
 "nbformat_minor": 2
}
